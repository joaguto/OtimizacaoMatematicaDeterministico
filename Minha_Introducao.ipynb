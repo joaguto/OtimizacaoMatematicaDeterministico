{
 "cells": [
  {
   "cell_type": "markdown",
   "metadata": {},
   "source": [
    "# Exemplo 0 - Introdução"
   ]
  },
  {
   "cell_type": "code",
   "execution_count": 1,
   "metadata": {},
   "outputs": [],
   "source": [
    "# Carregando pacote\n",
    "from gurobipy import *\n",
    "import matplotlib.pyplot as plt"
   ]
  },
  {
   "cell_type": "code",
   "execution_count": 2,
   "metadata": {},
   "outputs": [
    {
     "name": "stdout",
     "output_type": "stream",
     "text": [
      "Set parameter Username\n"
     ]
    },
    {
     "ename": "GurobiError",
     "evalue": "License expired 2022-06-20",
     "output_type": "error",
     "traceback": [
      "\u001b[1;31m---------------------------------------------------------------------------\u001b[0m",
      "\u001b[1;31mGurobiError\u001b[0m                               Traceback (most recent call last)",
      "\u001b[1;32m<ipython-input-2-aa031946d40d>\u001b[0m in \u001b[0;36m<module>\u001b[1;34m\u001b[0m\n\u001b[0;32m      1\u001b[0m \u001b[1;31m# criando a instancia do modelo\u001b[0m\u001b[1;33m\u001b[0m\u001b[1;33m\u001b[0m\u001b[1;33m\u001b[0m\u001b[0m\n\u001b[1;32m----> 2\u001b[1;33m \u001b[0mmodelo\u001b[0m \u001b[1;33m=\u001b[0m \u001b[0mModel\u001b[0m\u001b[1;33m(\u001b[0m\u001b[1;33m)\u001b[0m\u001b[1;33m\u001b[0m\u001b[1;33m\u001b[0m\u001b[0m\n\u001b[0m\u001b[0;32m      3\u001b[0m \u001b[1;33m\u001b[0m\u001b[0m\n\u001b[0;32m      4\u001b[0m \u001b[1;31m# Criando as variaveis\u001b[0m\u001b[1;33m\u001b[0m\u001b[1;33m\u001b[0m\u001b[1;33m\u001b[0m\u001b[0m\n\u001b[0;32m      5\u001b[0m \u001b[0mv0\u001b[0m \u001b[1;33m=\u001b[0m \u001b[0mmodelo\u001b[0m\u001b[1;33m.\u001b[0m\u001b[0maddVar\u001b[0m\u001b[1;33m(\u001b[0m\u001b[1;33m)\u001b[0m\u001b[1;33m\u001b[0m\u001b[1;33m\u001b[0m\u001b[0m\n",
      "\u001b[1;32msrc\\gurobipy\\model.pxi\u001b[0m in \u001b[0;36mgurobipy.Model.__init__\u001b[1;34m()\u001b[0m\n",
      "\u001b[1;32msrc\\gurobipy\\gurobi.pxi\u001b[0m in \u001b[0;36mgurobipy.gurobi._getdefaultenv\u001b[1;34m()\u001b[0m\n",
      "\u001b[1;32msrc\\gurobipy\\env.pxi\u001b[0m in \u001b[0;36mgurobipy.Env.__init__\u001b[1;34m()\u001b[0m\n",
      "\u001b[1;31mGurobiError\u001b[0m: License expired 2022-06-20"
     ]
    }
   ],
   "source": [
    "# criando a instancia do modelo\n",
    "modelo = Model()\n",
    "\n",
    "# Criando as variaveis\n",
    "v0 = modelo.addVar()\n",
    "v1 = modelo.addVar()\n",
    "modelo.update() # Verificar para o que serve"
   ]
  },
  {
   "cell_type": "code",
   "execution_count": 3,
   "metadata": {},
   "outputs": [
    {
     "data": {
      "text/plain": [
       "<gurobi.Constr *Awaiting Model Update*>"
      ]
     },
     "execution_count": 3,
     "metadata": {},
     "output_type": "execute_result"
    }
   ],
   "source": [
    "# Adicinando as Restrições\n",
    "modelo.addConstr(v0 - v1 <= 4) # restrição 1\n",
    "modelo.addConstr(v0 + v1 <= 4) # Restrição 2\n",
    "modelo.addConstr(-0.25* v0 + v1 <= 1) # Restrição 3"
   ]
  },
  {
   "cell_type": "code",
   "execution_count": 4,
   "metadata": {},
   "outputs": [],
   "source": [
    "# Criando o objetivo do modelo\n",
    "modelo.setObjective(v1, GRB.MAXIMIZE) # Maximazar a variavel 1\n",
    "modelo.params.outputflag = 0\n",
    "modelo.optimize() # Otimizando o modelo"
   ]
  },
  {
   "cell_type": "markdown",
   "metadata": {},
   "source": [
    "### Formato 1 de ver a Resposta"
   ]
  },
  {
   "cell_type": "code",
   "execution_count": 5,
   "metadata": {},
   "outputs": [
    {
     "name": "stdout",
     "output_type": "stream",
     "text": [
      "Variavel 0 -> 2.4\n",
      "Variavel 1 ->  1.6\n"
     ]
    }
   ],
   "source": [
    "print('Variavel 0 ->', v0.x)\n",
    "print('Variavel 1 -> ', v1.x)"
   ]
  },
  {
   "cell_type": "markdown",
   "metadata": {},
   "source": [
    "### Formato 2 de ver a Resposta"
   ]
  },
  {
   "cell_type": "code",
   "execution_count": 6,
   "metadata": {},
   "outputs": [
    {
     "data": {
      "image/png": "[encoded data removed]",
      "text/plain": [
       "<Figure size 432x288 with 1 Axes>"
      ]
     },
     "metadata": {
      "needs_background": "light"
     },
     "output_type": "display_data"
    }
   ],
   "source": [
    "plt.plot([0,4], [0,4]) # Restrição 1\n",
    "plt.plot([4,0], [0,4]) # Restrição 2\n",
    "plt.plot([0,4], [1,2]) # Restrição 3\n",
    "\n",
    "plt.plot([v0.x], [v1.x], 'ro') # Adicionado o ponto com melhor reposta\n",
    "plt.show()"
   ]
  },
  {
   "cell_type": "markdown",
   "metadata": {},
   "source": [
    "# Exemplo 1 - Exercicio de PO"
   ]
  },
  {
   "cell_type": "markdown",
   "metadata": {},
   "source": [
    "Exercicio da Questão 4 da primeira lista de exercicios do semestre"
   ]
  },
  {
   "cell_type": "code",
   "execution_count": 12,
   "metadata": {},
   "outputs": [],
   "source": [
    "# Criando o modelo\n",
    "# criando a instancia do modelo\n",
    "modelo = Model()\n",
    "\n",
    "# Criando as variaveis\n",
    "R = modelo.addVar()\n",
    "B = modelo.addVar()\n",
    "\n",
    "modelo.update() # Verificar para o que serve"
   ]
  },
  {
   "cell_type": "code",
   "execution_count": 13,
   "metadata": {},
   "outputs": [
    {
     "data": {
      "text/plain": [
       "<gurobi.Constr *Awaiting Model Update*>"
      ]
     },
     "execution_count": 13,
     "metadata": {},
     "output_type": "execute_result"
    }
   ],
   "source": [
    "# Criando as restrições\n",
    "\n",
    "modelo.addConstr(8*R + 6*B >= 48)\n",
    "modelo.addConstr(R + 2*B >=12)\n",
    "modelo.addConstr(R + 2*B <= 20)"
   ]
  },
  {
   "cell_type": "code",
   "execution_count": 14,
   "metadata": {},
   "outputs": [],
   "source": [
    "# Criando o objetivo do modelo\n",
    "modelo.setObjective((0.06*R + 0.08 * B) , GRB.MAXIMIZE) # Maximazar a variavel 1\n",
    "modelo.params.outputflag = 0\n",
    "modelo.optimize() # Otimizando o modelo"
   ]
  },
  {
   "cell_type": "code",
   "execution_count": 15,
   "metadata": {},
   "outputs": [
    {
     "name": "stdout",
     "output_type": "stream",
     "text": [
      "Variavel R -> 20.0\n",
      "Variavel B ->  0.0\n"
     ]
    }
   ],
   "source": [
    "print('Variavel R ->', R.x)\n",
    "print('Variavel B -> ', B.x)"
   ]
  },
  {
   "cell_type": "markdown",
   "metadata": {},
   "source": [
    "# Exemplo 2 - Modelo de Rede"
   ]
  },
  {
   "cell_type": "markdown",
   "metadata": {},
   "source": [
    "Exercicio 7"
   ]
  },
  {
   "cell_type": "code",
   "execution_count": 16,
   "metadata": {},
   "outputs": [],
   "source": [
    "# Declarando as variaveis\n",
    "fabricas = ['Sao Paulo', 'Joao Pessoa', 'Manaus']\n",
    "revenda = ['Rio de Janeiro', 'Salvador', 'Aracaju', 'Maceio', 'Recife']"
   ]
  },
  {
   "cell_type": "code",
   "execution_count": 17,
   "metadata": {},
   "outputs": [],
   "source": [
    "# Declarando os custos de Frete\n",
    "combinacoes, preco = multidict({\n",
    "    ('Sao Paulo', 'Rio de Janeiro'): 1.0,\n",
    "    ('Sao Paulo', 'Salvador'): 2.0,\n",
    "    ('Sao Paulo', 'Aracaju'): 3.0,\n",
    "    ('Sao Paulo', 'Maceio'): 3.5,\n",
    "    ('Sao Paulo', 'Recife'): 4.0,\n",
    "    \n",
    "    ('Joao Pessoa', 'Rio de Janeiro'): 4.0,\n",
    "    ('Joao Pessoa', 'Salvador'): 2.0,\n",
    "    ('Joao Pessoa', 'Aracaju'): 1.5,\n",
    "    ('Joao Pessoa', 'Maceio'): 1.2,\n",
    "    ('Joao Pessoa', 'Recife'): 1.0,\n",
    "    \n",
    "    ('Manaus', 'Rio de Janeiro'): 6.0,\n",
    "    ('Manaus', 'Salvador'): 4.0,\n",
    "    ('Manaus', 'Aracaju'): 3.5,\n",
    "    ('Manaus', 'Maceio'): 3.0,\n",
    "    ('Manaus', 'Recife'): 2.0,\n",
    "})"
   ]
  },
  {
   "cell_type": "code",
   "execution_count": 18,
   "metadata": {},
   "outputs": [],
   "source": [
    "# Iniciando o modelo\n",
    "m = Model('RAP')"
   ]
  },
  {
   "cell_type": "code",
   "execution_count": 19,
   "metadata": {},
   "outputs": [],
   "source": [
    "# Criando as variaveis do modelo\n",
    "x = m.addVars(combinacoes, name=\"assign\")"
   ]
  },
  {
   "cell_type": "code",
   "execution_count": 20,
   "metadata": {},
   "outputs": [],
   "source": [
    "# Criando restrição da capacidade maxima (Por linha)\n",
    "capacidade = [10000, 5000, 6000]\n",
    "capacidade = m.addConstrs( (x.sum(fabrica,'*') <= capacidade[fabricas.index(fabrica)] for fabrica in fabricas), name='Capacidade_Maxima')"
   ]
  },
  {
   "cell_type": "code",
   "execution_count": 21,
   "metadata": {},
   "outputs": [],
   "source": [
    "# Criando restrição da capacidade minima (Por coluna)\n",
    "demanda = [6000, 5000, 2000, 1000, 3000]\n",
    "demanda = m.addConstrs( (x.sum('*',ponto) == demanda[revenda.index(ponto)] for ponto in revenda), name='demanda')"
   ]
  },
  {
   "cell_type": "code",
   "execution_count": 22,
   "metadata": {},
   "outputs": [],
   "source": [
    "# Criando a função objetivo ( Minimazar o custo)\n",
    "m.setObjective(x.prod(preco), GRB.MINIMIZE)"
   ]
  },
  {
   "cell_type": "code",
   "execution_count": 23,
   "metadata": {},
   "outputs": [
    {
     "name": "stdout",
     "output_type": "stream",
     "text": [
      "Warning: variable name \"assign[Sao Paulo,Rio de Janeiro]\" has a space\n",
      "Warning: constraint name \"Capacidade_Maxima[Sao Paulo]\" has a space\n",
      "Warning: to let Gurobi read it back, use rlp format\n"
     ]
    }
   ],
   "source": [
    "# Salvar o modelo\n",
    "m.write('RAP.lp')"
   ]
  },
  {
   "cell_type": "code",
   "execution_count": 24,
   "metadata": {},
   "outputs": [
    {
     "name": "stdout",
     "output_type": "stream",
     "text": [
      "Gurobi Optimizer version 9.5.1 build v9.5.1rc2 (win64)\n",
      "Thread count: 4 physical cores, 8 logical processors, using up to 8 threads\n",
      "Optimize a model with 8 rows, 15 columns and 30 nonzeros\n",
      "Model fingerprint: 0xba10cd6e\n",
      "Coefficient statistics:\n",
      "  Matrix range     [1e+00, 1e+00]\n",
      "  Objective range  [1e+00, 6e+00]\n",
      "  Bounds range     [0e+00, 0e+00]\n",
      "  RHS range        [1e+03, 1e+04]\n",
      "Presolve time: 0.01s\n",
      "Presolved: 8 rows, 15 columns, 30 nonzeros\n",
      "\n",
      "Iteration    Objective       Primal Inf.    Dual Inf.      Time\n",
      "       0    2.3200000e+04   2.000000e+03   0.000000e+00      0s\n",
      "       2    2.5200000e+04   0.000000e+00   0.000000e+00      0s\n",
      "\n",
      "Solved in 2 iterations and 0.02 seconds (0.00 work units)\n",
      "Optimal objective  2.520000000e+04\n"
     ]
    }
   ],
   "source": [
    "# Iniciando a otimização\n",
    "m.optimize()"
   ]
  },
  {
   "cell_type": "code",
   "execution_count": 25,
   "metadata": {},
   "outputs": [
    {
     "name": "stdout",
     "output_type": "stream",
     "text": [
      "assign[Sao Paulo,Rio de Janeiro] 6000.0\n",
      "assign[Sao Paulo,Salvador] 4000.0\n",
      "assign[Joao Pessoa,Salvador] 1000.0\n",
      "assign[Joao Pessoa,Aracaju] 2000.0\n",
      "assign[Joao Pessoa,Maceio] 1000.0\n",
      "assign[Joao Pessoa,Recife] 1000.0\n",
      "assign[Manaus,Recife] 2000.0\n",
      "\n",
      "Custo Minimo Localizado:  25200.0\n"
     ]
    }
   ],
   "source": [
    "# Imprimento as respostas\n",
    "for v in m.getVars():\n",
    "    if v.x > 0:\n",
    "        print(v.varName, v.x)\n",
    "\n",
    "# Imprimindo Resultado\n",
    "print('')\n",
    "print('Custo Minimo Localizado: ', m.objVal)"
   ]
  }
 ],
 "metadata": {
  "kernelspec": {
   "display_name": "Python 3",
   "language": "python",
   "name": "python3"
  },
  "language_info": {
   "codemirror_mode": {
    "name": "ipython",
    "version": 3
   },
   "file_extension": ".py",
   "mimetype": "text/x-python",
   "name": "python",
   "nbconvert_exporter": "python",
   "pygments_lexer": "ipython3",
   "version": "3.7.6"
  }
 },
 "nbformat": 4,
 "nbformat_minor": 4
}
